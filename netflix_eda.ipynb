{
 "cells": [
  {
   "cell_type": "code",
   "execution_count": 2,
   "id": "generic-brooklyn",
   "metadata": {},
   "outputs": [],
   "source": [
    "# Data management imports\n",
    "import pandas as pd\n",
    "\n",
    "# Plot imports\n",
    "import matplotlib.pyplot as plt\n",
    "import seaborn as sns"
   ]
  },
  {
   "cell_type": "code",
   "execution_count": 8,
   "id": "changed-gardening",
   "metadata": {},
   "outputs": [
    {
     "name": "stdout",
     "output_type": "stream",
     "text": [
      "            type  title           director  \\\n",
      "show_id                                      \n",
      "s1       TV Show     3%                NaN   \n",
      "s2         Movie   7:19  Jorge Michel Grau   \n",
      "s3         Movie  23:59       Gilbert Chan   \n",
      "s4         Movie      9        Shane Acker   \n",
      "s5         Movie     21     Robert Luketic   \n",
      "\n",
      "                                                      cast        country  \\\n",
      "show_id                                                                     \n",
      "s1       João Miguel, Bianca Comparato, Michel Gomes, R...         Brazil   \n",
      "s2       Demián Bichir, Héctor Bonilla, Oscar Serrano, ...         Mexico   \n",
      "s3       Tedd Chan, Stella Chung, Henley Hii, Lawrence ...      Singapore   \n",
      "s4       Elijah Wood, John C. Reilly, Jennifer Connelly...  United States   \n",
      "s5       Jim Sturgess, Kevin Spacey, Kate Bosworth, Aar...  United States   \n",
      "\n",
      "                date_added  release_year rating   duration  \\\n",
      "show_id                                                      \n",
      "s1         August 14, 2020          2020  TV-MA  4 Seasons   \n",
      "s2       December 23, 2016          2016  TV-MA     93 min   \n",
      "s3       December 20, 2018          2011      R     78 min   \n",
      "s4       November 16, 2017          2009  PG-13     80 min   \n",
      "s5         January 1, 2020          2008  PG-13    123 min   \n",
      "\n",
      "                                                 listed_in  \\\n",
      "show_id                                                      \n",
      "s1       International TV Shows, TV Dramas, TV Sci-Fi &...   \n",
      "s2                            Dramas, International Movies   \n",
      "s3                     Horror Movies, International Movies   \n",
      "s4       Action & Adventure, Independent Movies, Sci-Fi...   \n",
      "s5                                                  Dramas   \n",
      "\n",
      "                                               description  \n",
      "show_id                                                     \n",
      "s1       In a future where the elite inhabit an island ...  \n",
      "s2       After a devastating earthquake hits Mexico Cit...  \n",
      "s3       When an army recruit is found dead, his fellow...  \n",
      "s4       In a postapocalyptic world, rag-doll robots hi...  \n",
      "s5       A brilliant group of students become card-coun...  \n"
     ]
    }
   ],
   "source": [
    "db = pd.read_csv('netflix_titles.csv', index_col = 'show_id')\n",
    "print(db.head())"
   ]
  },
  {
   "cell_type": "code",
   "execution_count": 10,
   "id": "floating-details",
   "metadata": {},
   "outputs": [
    {
     "name": "stdout",
     "output_type": "stream",
     "text": [
      "show_id\n",
      "s1                                            3%\n",
      "s2                                          7:19\n",
      "s3                                         23:59\n",
      "s4                                             9\n",
      "s5                                            21\n",
      "                          ...                   \n",
      "s7783                                       Zozo\n",
      "s7784                                     Zubaan\n",
      "s7785                          Zulu Man in Japan\n",
      "s7786                      Zumbo's Just Desserts\n",
      "s7787    ZZ TOP: THAT LITTLE OL' BAND FROM TEXAS\n",
      "Name: title, Length: 7787, dtype: object\n"
     ]
    }
   ],
   "source": [
    "print(db['title'])\n"
   ]
  },
  {
   "cell_type": "code",
   "execution_count": null,
   "id": "spoken-friendship",
   "metadata": {},
   "outputs": [],
   "source": []
  }
 ],
 "metadata": {
  "kernelspec": {
   "display_name": "env",
   "language": "python",
   "name": "env"
  },
  "language_info": {
   "codemirror_mode": {
    "name": "ipython",
    "version": 3
   },
   "file_extension": ".py",
   "mimetype": "text/x-python",
   "name": "python",
   "nbconvert_exporter": "python",
   "pygments_lexer": "ipython3",
   "version": "3.6.11"
  }
 },
 "nbformat": 4,
 "nbformat_minor": 5
}
